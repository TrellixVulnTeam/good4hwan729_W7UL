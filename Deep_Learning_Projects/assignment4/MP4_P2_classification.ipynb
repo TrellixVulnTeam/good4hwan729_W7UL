{
 "cells": [
  {
   "cell_type": "code",
   "execution_count": 1,
   "metadata": {},
   "outputs": [],
   "source": [
    "import os\n",
    "import time\n",
    "import math\n",
    "import glob\n",
    "import string\n",
    "import random \n",
    "\n",
    "import torch\n",
    "import torch.nn as nn\n",
    "\n",
    "from rnn.helpers import time_since\n",
    "\n",
    "%matplotlib inline"
   ]
  },
  {
   "cell_type": "code",
   "execution_count": 2,
   "metadata": {},
   "outputs": [],
   "source": [
    "device = torch.device(\"cuda:0\" if torch.cuda.is_available() else \"cpu\")"
   ]
  },
  {
   "cell_type": "markdown",
   "metadata": {},
   "source": [
    "# Language recognition with an RNN\n",
    "\n",
    "If you've ever used an online translator you've probably seen a feature that automatically detects the input language. While this might be easy to do if you input unicode characters that are unique to one or a small group of languages (like \"你好\" or \"γεια σας\"), this problem is more challenging if the input only uses the available ASCII characters. In this case, something like \"těší mě\" would beome \"tesi me\" in the ascii form. This is a more challenging problem in which the language must be recognized purely by the pattern of characters rather than unique unicode characters.\n",
    "\n",
    "We will train an RNN to solve this problem for a small set of languages thta can be converted to romanized ASCII form. For training data it would be ideal to have a large and varied dataset in different language styles. However, it is easy to find copies of the Bible which is a large text translated to different languages but in the same easily parsable format, so we will use 20 different copies of the Bible as training data. Using the same book for all of the different languages will hopefully prevent minor overfitting that might arise if we used different books for each language (fitting to common characteristics of the individual books rather than the language)."
   ]
  },
  {
   "cell_type": "code",
   "execution_count": 3,
   "metadata": {},
   "outputs": [
    {
     "name": "stdout",
     "output_type": "stream",
     "text": [
      "tesi me\n"
     ]
    }
   ],
   "source": [
    "from unidecode import unidecode as unicodeToAscii\n",
    "\n",
    "all_characters = string.printable\n",
    "n_letters = len(all_characters)\n",
    "\n",
    "print(unicodeToAscii('těší mě'))"
   ]
  },
  {
   "cell_type": "code",
   "execution_count": 4,
   "metadata": {},
   "outputs": [],
   "source": [
    "# Read a file and split into lines\n",
    "def readFile(filename):\n",
    "    data = open(filename, encoding='utf-8').read().strip()\n",
    "    return unicodeToAscii(data)\n",
    "\n",
    "def get_category_data(data_path):\n",
    "    # Build the category_data dictionary, a list of names per language\n",
    "    category_data = {}\n",
    "    all_categories = []\n",
    "    for filename in glob.glob(data_path):\n",
    "        category = os.path.splitext(os.path.basename(filename))[0].split('_')[0]\n",
    "        all_categories.append(category)\n",
    "        data = readFile(filename)\n",
    "        category_data[category] = data\n",
    "    \n",
    "    return category_data, all_categories"
   ]
  },
  {
   "cell_type": "markdown",
   "metadata": {},
   "source": [
    "The original text is split into two parts, train and test, so that we can make sure that the model is not simply memorizing the train data."
   ]
  },
  {
   "cell_type": "code",
   "execution_count": 5,
   "metadata": {},
   "outputs": [
    {
     "name": "stdout",
     "output_type": "stream",
     "text": [
      "20\n",
      "['norwegian', 'finnish', 'swedish', 'albanian', 'portuguese', 'german', 'esperanto', 'hungarian', 'xhosa', 'czech', 'french', 'italian', 'turkish', 'english', 'maori', 'lithuanian', 'spanish', 'romanian', 'vietnamese', 'danish']\n"
     ]
    }
   ],
   "source": [
    "train_data_path = 'language_data/train/*_train.txt'\n",
    "test_data_path = 'language_data/test/*_test.txt'\n",
    "\n",
    "train_category_data, all_categories = get_category_data(train_data_path)\n",
    "test_category_data, test_all_categories = get_category_data(test_data_path)\n",
    "\n",
    "n_languages = len(all_categories)\n",
    "\n",
    "print(len(all_categories))\n",
    "print(all_categories)"
   ]
  },
  {
   "cell_type": "markdown",
   "metadata": {},
   "source": [
    "# Data processing"
   ]
  },
  {
   "cell_type": "code",
   "execution_count": 6,
   "metadata": {},
   "outputs": [],
   "source": [
    "def categoryFromOutput(output):\n",
    "    top_n, top_i = output.topk(1, dim=1)\n",
    "    category_i = top_i[:, 0]\n",
    "    return category_i\n",
    "\n",
    "# Turn string into long tensor\n",
    "def stringToTensor(string):\n",
    "    tensor = torch.zeros(len(string), requires_grad=True).long()\n",
    "    for c in range(len(string)):\n",
    "        tensor[c] = all_characters.index(string[c])\n",
    "    return tensor\n",
    "\n",
    "def load_random_batch(text, chunk_len, batch_size):\n",
    "    input_data = torch.zeros(batch_size, chunk_len).long().to(device)\n",
    "    target = torch.zeros(batch_size, 1).long().to(device)\n",
    "    input_text = []\n",
    "    for i in range(batch_size):\n",
    "        category = all_categories[random.randint(0, len(all_categories) - 1)]\n",
    "        line_start = random.randint(0, len(text[category])-chunk_len)\n",
    "        category_tensor = torch.tensor([all_categories.index(category)], dtype=torch.long)\n",
    "        line = text[category][line_start:line_start+chunk_len]\n",
    "        input_text.append(line)\n",
    "        input_data[i] = stringToTensor(line)\n",
    "        target[i] = category_tensor\n",
    "    return input_data, target, input_text"
   ]
  },
  {
   "cell_type": "markdown",
   "metadata": {},
   "source": [
    "Implement Model\n",
    "====================\n",
    "\n",
    "For this classification task, we can use the same model we implement for the generation task which is located in `rnn/model.py`. See the `MP4_P2_generation.ipynb` notebook for more instructions. In this case each output vector of our RNN will have the dimension of the number of possible languages (i.e. `n_languages`). We will use this vector to predict a distribution over the languages.\n",
    "\n",
    "In the generation task, we used the output of the RNN at every time step to predict the next letter and our loss included the output from each of these predictions. However, in this task we use the output of the RNN at the end of the sequence to predict the language, so our loss function will use only the predicted output from the last time step.\n",
    "\n"
   ]
  },
  {
   "cell_type": "markdown",
   "metadata": {},
   "source": [
    "# Train RNN"
   ]
  },
  {
   "cell_type": "code",
   "execution_count": 7,
   "metadata": {},
   "outputs": [],
   "source": [
    "from rnn.model import RNN"
   ]
  },
  {
   "cell_type": "code",
   "execution_count": 8,
   "metadata": {},
   "outputs": [],
   "source": [
    "chunk_len = 50\n",
    "\n",
    "BATCH_SIZE = 100\n",
    "n_epochs = 2000\n",
    "hidden_size = 200\n",
    "n_layers = 3\n",
    "learning_rate = 0.001\n",
    "model_type = 'gru'\n",
    "\n",
    "criterion = nn.CrossEntropyLoss()\n",
    "rnn = RNN(n_letters, hidden_size, n_languages, model_type=model_type, n_layers=n_layers).to(device)"
   ]
  },
  {
   "cell_type": "markdown",
   "metadata": {},
   "source": [
    "**TODO:** Fill in the train function. You should initialize a hidden layer representation using your RNN's `init_hidden` function, set the model gradients to zero, and loop over each time step (character) in the input tensor. For each time step compute the output of the of the RNN and the next hidden layer representation. The cross entropy loss should be computed over the last RNN output scores from the end of the sequence and the target classification tensor. Lastly, call backward on the loss and take an optimizer step."
   ]
  },
  {
   "cell_type": "code",
   "execution_count": 9,
   "metadata": {},
   "outputs": [],
   "source": [
    "def train(rnn, target_tensor, data_tensor, optimizer, criterion, batch_size=BATCH_SIZE):\n",
    "    \"\"\"\n",
    "    Inputs:\n",
    "    - rnn: model\n",
    "    - target_target: target character data tensor of shape (batch_size, 1)\n",
    "    - data_tensor: input character data tensor of shape (batch_size, chunk_len)\n",
    "    - optimizer: rnn model optimizer\n",
    "    - criterion: loss function\n",
    "    - batch_size: data batch size\n",
    "    \n",
    "    Returns:\n",
    "    - output: output from RNN from end of sequence \n",
    "    - loss: computed loss value as python float\n",
    "    \n",
    "    \"\"\"\n",
    "    \n",
    "    output, loss = None, 0\n",
    "    \n",
    "    ####################################\n",
    "    #          YOUR CODE HERE          #\n",
    "    ####################################\n",
    "    optimizer.zero_grad()\n",
    "    hidden = rnn.init_hidden(batch_size, device = device)\n",
    "    \n",
    "    for i in range(chunk_len):\n",
    "        output, hidden = rnn(data_tensor[:, i], hidden)\n",
    "    loss += criterion(output, target_tensor.squeeze())\n",
    "        \n",
    "    loss.backward()\n",
    "    optimizer.step()\n",
    "    \n",
    "    ##########       END      ##########\n",
    "\n",
    "    return output, loss\n",
    "    "
   ]
  },
  {
   "cell_type": "code",
   "execution_count": 10,
   "metadata": {},
   "outputs": [],
   "source": [
    "def evaluate(rnn, data_tensor, seq_len=chunk_len, batch_size=BATCH_SIZE):\n",
    "    with torch.no_grad():\n",
    "        data_tensor = data_tensor.to(device)\n",
    "        hidden = rnn.init_hidden(batch_size, device=device)\n",
    "        for i in range(seq_len):\n",
    "            output, hidden = rnn(data_tensor[:,i], hidden)\n",
    "        \n",
    "        return output\n",
    "    \n",
    "def eval_test(rnn, category_tensor, data_tensor):\n",
    "    with torch.no_grad():\n",
    "        output = evaluate(rnn, data_tensor)\n",
    "        loss = criterion(output, category_tensor.squeeze())\n",
    "        return output, loss.item()"
   ]
  },
  {
   "cell_type": "code",
   "execution_count": 11,
   "metadata": {
    "scrolled": false
   },
   "outputs": [
    {
     "name": "stdout",
     "output_type": "stream",
     "text": [
      "100 1% (0m 20s) 1.1948 1.0932 . Wabetha emadodeni aseBhete-shemeshe, ngokuba ayi / xhosa ✓\n",
      "Train accuracy: 0.4153\n",
      "200 2% (0m 41s) 0.5452 0.4823 sa elott van. Minden koverjet pedig szedje ki belo / albanian ✗ (hungarian)\n",
      "Train accuracy: 0.7647\n",
      "300 3% (1m 1s) 0.2747 0.2229 r, sandigi kralin gorevlilerine getiriyorlardi. Co / turkish ✓\n",
      "Train accuracy: 0.8532\n",
      "400 4% (1m 22s) 0.2525 0.2095 lo de Netanja, kaj la dek viroj, kiuj estis kun li / esperanto ✓\n",
      "Train accuracy: 0.8943\n",
      "500 5% (1m 42s) 0.1753 0.1480 icin toplam 61 000 darik altin, 5 000 mina gumus,  / turkish ✓\n",
      "Train accuracy: 0.9197\n",
      "600 6% (2m 3s) 0.1173 0.1061 ac con trai con gai nguoi. Ai trong nha nguoi tinh / vietnamese ✓\n",
      "Train accuracy: 0.9347\n",
      "700 7% (2m 24s) 0.2183 0.1374  Elisua og Nefeg og Jafia og Elisama og Eljada og  / norwegian ✓\n",
      "Train accuracy: 0.9448\n",
      "800 8% (2m 44s) 0.1716 0.1284 n sahiplenilmesi anlamina geliyordu. Kim beni surl / turkish ✓\n",
      "Train accuracy: 0.9593\n",
      "900 9% (3m 5s) 0.1186 0.0982 ng han vare fedre til a sette sine nyfodte barn ut / danish ✗ (norwegian)\n",
      "Train accuracy: 0.9572\n",
      "1000 10% (3m 26s) 0.0572 0.0415 e takojne Moisiun, Aaronin dhe tere asamblene e bi / albanian ✓\n",
      "Train accuracy: 0.9622\n",
      "1100 11% (3m 46s) 0.0914 0.0553  roper til mig, skal jeg visselig hore deres rop,  / norwegian ✓\n",
      "Train accuracy: 0.9688\n",
      "1200 12% (4m 7s) 0.1242 0.0806 inden! Hutet euch aber vor den falschen Propheten, / german ✓\n",
      "Train accuracy: 0.9699\n",
      "1300 13% (4m 27s) 0.0618 0.0429  Gibea heraus und streckten an jenem Tag unter Isr / german ✓\n",
      "Train accuracy: 0.9741\n",
      "1400 14% (4m 48s) 0.0658 0.0350  kipot ja kapot poytamaljoista alkaen viimeiseen v / finnish ✓\n",
      "Train accuracy: 0.9732\n",
      "1500 15% (5m 9s) 0.0287 0.0234 hirli yilanlar gonderdi. Yilanlar isirinca Israill / turkish ✓\n",
      "Train accuracy: 0.9771\n",
      "1600 16% (5m 29s) 0.0762 0.0448 n chau cua Gie-sua va Gio-ap, hai ngan tam tram mu / vietnamese ✓\n",
      "Train accuracy: 0.9792\n",
      "1700 17% (5m 50s) 0.0573 0.0386  juntamente com o veneno dos que se arrastam no po / portuguese ✓\n",
      "Train accuracy: 0.9792\n",
      "1800 18% (6m 10s) 0.0453 0.0379 Herrens befaling skrev Moses op de steder som de d / norwegian ✓\n",
      "Train accuracy: 0.98\n",
      "1900 19% (6m 31s) 0.0235 0.0084 kunniaksi ja on ikuinen merkki, joka ei koskaan ka / finnish ✓\n",
      "Train accuracy: 0.9798\n",
      "2000 20% (6m 52s) 0.0417 0.0259 a yasadiklarini ogrendiler. Bunun uzerine yola cik / turkish ✓\n",
      "Train accuracy: 0.9797\n",
      "2100 21% (7m 12s) 0.1044 0.0618 n on the morrow John was standing, and two of his  / english ✓\n",
      "Train accuracy: 0.9833\n",
      "2200 22% (7m 33s) 0.0165 0.0091 ates of the inner court, and within. They shall ha / english ✓\n",
      "Train accuracy: 0.9831\n",
      "2300 23% (7m 54s) 0.1193 0.0984  Viespats panaikino tavo nuosprendi, pasalino tavo / lithuanian ✓\n",
      "Train accuracy: 0.9839\n",
      "2400 24% (8m 14s) 0.0222 0.0197 to seco terra, e ao ajuntamento das aguas mares. E / portuguese ✓\n",
      "Train accuracy: 0.9851\n",
      "2500 25% (8m 35s) 0.0387 0.0160 itten der Gotter richtet er: <<Wie lange wollt ihr / german ✓\n",
      "Train accuracy: 0.9836\n",
      "2600 26% (8m 56s) 0.0118 0.0119 a hvite. Og Elias viste sig for dem sammen med Mos / norwegian ✓\n",
      "Train accuracy: 0.9806\n",
      "2700 27% (9m 16s) 0.0091 0.0075 Y los hijos de Israel hicieron segun que Jehova ha / spanish ✓\n",
      "Train accuracy: 0.9843\n",
      "2800 28% (9m 37s) 0.0614 0.0249 servanto de la Eternulo, en la lando Moaba,  laux  / esperanto ✓\n",
      "Train accuracy: 0.9821\n",
      "2900 28% (9m 57s) 0.0670 0.0286  that Solomon desired to build for his pleasure in / english ✓\n",
      "Train accuracy: 0.9864\n",
      "3000 30% (10m 18s) 0.1028 0.0341 i tona, kei Eneroro. Na ka whakaahua ke a Haora i  / maori ✓\n",
      "Train accuracy: 0.9874\n",
      "3100 31% (10m 39s) 0.0072 0.0064 gs um ihn her. Wie der Bogen aussieht, der an eine / german ✓\n",
      "Train accuracy: 0.9883\n",
      "3200 32% (10m 59s) 0.0870 0.0394 t se nje vella apo nje moter hebre shitet te ti, d / albanian ✓\n",
      "Train accuracy: 0.9873\n",
      "3300 33% (11m 20s) 0.0510 0.0238 on, nendlu abeyakhile, nokudla kwetafile yakhe, no / xhosa ✓\n",
      "Train accuracy: 0.9867\n",
      "3400 34% (11m 41s) 0.0138 0.0121 jem zonje perjete\", dhe keshtu nuk i vure keto gje / albanian ✓\n",
      "Train accuracy: 0.9867\n",
      "3500 35% (12m 1s) 0.0055 0.0049 aguel Madianita, su suegro: Nosotros nos partimos  / spanish ✓\n",
      "Train accuracy: 0.9904\n",
      "3600 36% (12m 22s) 0.0455 0.0363 ulk ve onur verecegim ki, benzeri ne senden onceki / turkish ✓\n",
      "Train accuracy: 0.989\n",
      "3700 37% (12m 43s) 0.0398 0.0241 kets hjartan forsagda, men jag efterfoljde i allt  / swedish ✓\n",
      "Train accuracy: 0.9874\n",
      "3800 38% (13m 3s) 0.0480 0.0318 tarisini! Gorkemini uluslara,<br />Harikalarini bu / turkish ✓\n",
      "Train accuracy: 0.9879\n",
      "3900 39% (13m 24s) 0.0153 0.0148 ni che l'Eterno avea distrutte dinanzi ai figliuol / italian ✓\n",
      "Train accuracy: 0.9881\n",
      "4000 40% (13m 44s) 0.0480 0.0156 utiniame kambaryje, kur jie buvo susirinke, dege d / lithuanian ✓\n",
      "Train accuracy: 0.9877\n",
      "4100 41% (14m 5s) 0.0151 0.0125 ta, Ana, fata lui Fanuel, din semintia lui Aser. E / romanian ✓\n",
      "Train accuracy: 0.9887\n",
      "4200 42% (14m 26s) 0.0366 0.0191 e nje komb\". Keshtu thote Zoti: \"Ne qofte se une n / albanian ✓\n",
      "Train accuracy: 0.9864\n",
      "4300 43% (14m 46s) 0.0086 0.0072 on en Jerusalem, kaj li forkuris en Lahxisxon. Sed / esperanto ✓\n",
      "Train accuracy: 0.9912\n",
      "4400 44% (15m 7s) 0.0048 0.0036  leisk sueiti kiauliu bandon\". Ir Jis jiems tare:  / lithuanian ✓\n",
      "Train accuracy: 0.9909\n",
      "4500 45% (15m 28s) 0.0154 0.0072  meggyogyitja, es megternek az Urhoz, es O meghall / hungarian ✓\n",
      "Train accuracy: 0.989\n",
      "4600 46% (15m 48s) 0.0898 0.0281 e qe nuk mund te hetohen, po, mrekulli te panumert / albanian ✓\n",
      "Train accuracy: 0.9898\n",
      "4700 47% (16m 9s) 0.0615 0.0365 la, Emblanqueciose esta como la nieve en Salmon. M / spanish ✓\n",
      "Train accuracy: 0.9907\n",
      "4800 48% (16m 30s) 0.0175 0.0050 gqibelele intliziyo yam emimiselweni yakho, Ukuze  / xhosa ✓\n",
      "Train accuracy: 0.9923\n",
      "4900 49% (16m 50s) 0.0320 0.0299 ecio en aquellos dias que enfermando, murio; a la  / spanish ✓\n",
      "Train accuracy: 0.9883\n",
      "5000 50% (17m 11s) 0.0109 0.0072 i, vieni un po' qua, e mettiti qui a sedere!\" Quel / italian ✓\n",
      "Train accuracy: 0.99\n",
      "5100 51% (17m 31s) 0.0525 0.0369 mkani umthetho abathetheli ngenxa ka-Abhisalom. Ba / xhosa ✓\n",
      "Train accuracy: 0.9898\n",
      "5200 52% (17m 52s) 0.0077 0.0073 svemu domu. Zifejci vystoupili k Saulovi do Gibeje / czech ✓\n",
      "Train accuracy: 0.9898\n",
      "5300 53% (18m 13s) 0.0231 0.0102 okotoko a Arona. Na ka whakapakeketia e ia te ngak / maori ✓\n",
      "Train accuracy: 0.99\n",
      "5400 54% (18m 33s) 0.0431 0.0330 Moises con los hijos de Israel, cuando hubieron sa / spanish ✓\n",
      "Train accuracy: 0.9886\n",
      "5500 55% (18m 54s) 0.0030 0.0027 nd dein Manna nahmst du nicht von ihrem Munde, und / german ✓\n",
      "Train accuracy: 0.9904\n",
      "5600 56% (19m 15s) 0.0440 0.0286 gt slaktregistrens satt.  Och Rehabeam och Jerobea / swedish ✓\n",
      "Train accuracy: 0.9899\n",
      "5700 56% (19m 35s) 0.0145 0.0101 s ir teneissigasta. Jus girdejote, kaip As pasakia / lithuanian ✓\n",
      "Train accuracy: 0.9923\n",
      "5800 57% (19m 56s) 0.0129 0.0045 ul meu? Nadajduieste in Dumnezeu, caci iaras Il vo / romanian ✓\n",
      "Train accuracy: 0.9921\n",
      "5900 59% (20m 16s) 0.1366 0.0659 yabona benjenjalo endlwini yam phakathi. Phezu kok / xhosa ✓\n",
      "Train accuracy: 0.9906\n",
      "6000 60% (20m 37s) 0.0951 0.0260 nyuka size. Wavutha kunene umsindo kaMoses, wathi  / xhosa ✓\n",
      "Train accuracy: 0.9909\n",
      "6100 61% (20m 58s) 0.0242 0.0157  ki a koe, Era i puaki i oku ngutu, i korerotia e  / maori ✓\n",
      "Train accuracy: 0.9901\n",
      "6200 62% (21m 18s) 0.0218 0.0079 kum; wathi uYehova kum, Ndilivile izwi lokuthetha  / xhosa ✓\n",
      "Train accuracy: 0.9925\n",
      "6300 63% (21m 39s) 0.0424 0.0140 lius?' Atveskite juos mums, kad mes juos nuzudytum / lithuanian ✓\n",
      "Train accuracy: 0.9924\n",
      "6400 64% (21m 59s) 0.0430 0.0258 bt? Sollen wir aber sagen: <<Von den Menschen?>> d / german ✓\n",
      "Train accuracy: 0.9922\n",
      "6500 65% (22m 20s) 0.0372 0.0065 ek a setetsegnek napjairol, mert az sok lesz. Vala / hungarian ✓\n",
      "Train accuracy: 0.9935\n",
      "6600 66% (22m 41s) 0.0017 0.0016 icxa por la oferdono, tiu elektas lignon ne putran / esperanto ✓\n",
      "Train accuracy: 0.9898\n",
      "6700 67% (23m 1s) 0.0067 0.0038 jauhinkivien aanen ja annan lamppujen valon sammua / finnish ✓\n",
      "Train accuracy: 0.9926\n",
      "6800 68% (23m 22s) 0.0404 0.0332 em duvida me direis este proverbio: Medico, cura-t / portuguese ✓\n",
      "Train accuracy: 0.9924\n",
      "6900 69% (23m 43s) 0.0045 0.0031 elo nei luoghi altissimi. Lodatelo, voi tutti gli  / italian ✓\n",
      "Train accuracy: 0.9922\n"
     ]
    },
    {
     "name": "stdout",
     "output_type": "stream",
     "text": [
      "7000 70% (24m 3s) 0.0203 0.0103  plantas de meus pes sequei todos os rios do Egito / portuguese ✓\n",
      "Train accuracy: 0.993\n",
      "7100 71% (24m 24s) 0.0124 0.0087 har gjort det, Israels Hellige skabt det. Fremlaeg / norwegian ✗ (danish)\n",
      "Train accuracy: 0.9935\n",
      "7200 72% (24m 44s) 0.0109 0.0071 s gxin, adorklinigxas kaj pregxas al gxi, kaj dira / esperanto ✓\n",
      "Train accuracy: 0.9921\n",
      "7300 73% (25m 5s) 0.0293 0.0236 okejo man. As laikiausi Viespaties kelio ir neatsi / lithuanian ✓\n",
      "Train accuracy: 0.9915\n",
      "7400 74% (25m 26s) 0.0328 0.0082 lig og fodte en Son, som hun gav Navnet Er; siden  / danish ✓\n",
      "Train accuracy: 0.9914\n",
      "7500 75% (25m 46s) 0.0037 0.0021 usalim. De atunci pina acum se zideste ea, si nu s / romanian ✓\n",
      "Train accuracy: 0.992\n",
      "7600 76% (26m 7s) 0.0027 0.0018 y du skall doden do.>> Och han dog, i enlighet med / swedish ✓\n",
      "Train accuracy: 0.9915\n",
      "7700 77% (26m 28s) 0.0270 0.0066 . As pasitrauksiu nuo jos, ir ji bus sunaikinta. N / lithuanian ✓\n",
      "Train accuracy: 0.9925\n",
      "7800 78% (26m 48s) 0.0223 0.0152  on tyhmalle annettu kunnia. Kuin piikki juopuneen / finnish ✓\n",
      "Train accuracy: 0.9921\n",
      "7900 79% (27m 9s) 0.0039 0.0030 le kunna saga: >>Min gudastod har gjort det, min g / swedish ✓\n",
      "Train accuracy: 0.9935\n",
      "8000 80% (27m 30s) 0.0151 0.0030 lerle bildiririz. Dogal kisi, Tanrinin Ruhuyla ilg / turkish ✓\n",
      "Train accuracy: 0.9929\n",
      "8100 81% (27m 50s) 0.0321 0.0209 sinin ilkesidir. Tanri Misira karsi yurudugunde,<b / turkish ✓\n",
      "Train accuracy: 0.992\n",
      "8200 82% (28m 11s) 0.0532 0.0205 otin, Perendine e tyre, qe i kishte cliruar nga te / albanian ✓\n",
      "Train accuracy: 0.994\n",
      "8300 83% (28m 31s) 0.0080 0.0052 s, oglu Saula, <<Hizmetkarlardan birini yanina al  / turkish ✓\n",
      "Train accuracy: 0.99\n",
      "8400 84% (28m 52s) 0.0048 0.0034 : >>Huru skall detta ske?  Jag vet ju icke av nago / swedish ✓\n",
      "Train accuracy: 0.994\n",
      "8500 85% (29m 13s) 0.0053 0.0043 lai voi Ngai. Nhung Duc Chua Jesus khong cho, phan / vietnamese ✓\n",
      "Train accuracy: 0.9941\n",
      "8600 86% (29m 33s) 0.0012 0.0013 n malfortajxojn kaj portis niajn malsanojn. Kaj ki / esperanto ✓\n",
      "Train accuracy: 0.9936\n",
      "8700 87% (29m 54s) 0.0032 0.0031 o, e como passamos pelo meio das nacoes, pelas qua / portuguese ✓\n",
      "Train accuracy: 0.9937\n",
      "8800 88% (30m 14s) 0.0332 0.0070  praticam a iniquidade. Mas tens exaltado o meu po / portuguese ✓\n",
      "Train accuracy: 0.993\n",
      "8900 89% (30m 35s) 0.0096 0.0074 e de el naciones, e hizolo ensenorear de reyes; en / spanish ✓\n",
      "Train accuracy: 0.9926\n",
      "9000 90% (30m 56s) 0.0158 0.0080  Se, jeg skaber eder en Ulykke og udtaenker et Rad / danish ✓\n",
      "Train accuracy: 0.9922\n",
      "9100 91% (31m 16s) 0.0290 0.0069 opadava listi z vinne revy a padavce z fikovniku.  / czech ✓\n",
      "Train accuracy: 0.9932\n",
      "9200 92% (31m 37s) 0.0309 0.0139 r op i dig: \"Der er ikke laenge til det syvende Ar / danish ✓\n",
      "Train accuracy: 0.9941\n",
      "9300 93% (31m 57s) 0.0198 0.0101  te gjithe kufijte e tu. Dhe do te bej te kalosh b / albanian ✓\n",
      "Train accuracy: 0.9941\n",
      "9400 94% (32m 18s) 0.0052 0.0048  luottava menestyy. Mieleton se, joka itseensa tur / finnish ✓\n",
      "Train accuracy: 0.993\n",
      "9500 95% (32m 38s) 0.0040 0.0044 aratul David, capii caselor parintesti, capeteniil / romanian ✓\n",
      "Train accuracy: 0.9931\n",
      "9600 96% (32m 59s) 0.0198 0.0062 g ta phuc su se sai thien su theo nguoi, lam cho t / vietnamese ✓\n",
      "Train accuracy: 0.9936\n",
      "9700 97% (33m 20s) 0.0054 0.0042 gamberlikte bulunacaklar.  Gencleriniz gorumler,   / turkish ✓\n",
      "Train accuracy: 0.9935\n",
      "9800 98% (33m 40s) 0.0023 0.0022 en Hogtlovades Son?>> Jesus svarade: >>Jag ar det. / swedish ✓\n",
      "Train accuracy: 0.9957\n",
      "9900 99% (34m 1s) 0.0016 0.0016 a e tona ringa. Na ka whakapa a Eriha i ona ringa  / maori ✓\n",
      "Train accuracy: 0.9928\n",
      "10000 100% (34m 21s) 0.0062 0.0055  medens jeg blev hos eder. Men Talsmanden, den Hel / danish ✓\n",
      "Train accuracy: 0.994\n"
     ]
    }
   ],
   "source": [
    "n_iters = 10000 #2000 #100000\n",
    "print_every = 100\n",
    "plot_every = 100\n",
    "\n",
    "\n",
    "# Keep track of losses for plotting\n",
    "current_loss = 0\n",
    "current_test_loss = 0\n",
    "all_losses = []\n",
    "all_test_losses = []\n",
    "\n",
    "start = time.time()\n",
    "\n",
    "optimizer = torch.optim.Adam(rnn.parameters(), lr=learning_rate, weight_decay = 1e-5)\n",
    "\n",
    "\n",
    "number_correct = 0\n",
    "for iter in range(1, n_iters + 1):\n",
    "    input_data, target_category, text_data = load_random_batch(train_category_data, chunk_len, BATCH_SIZE)\n",
    "    output, loss = train(rnn, target_category, input_data, optimizer, criterion)\n",
    "    current_loss += loss\n",
    "    \n",
    "    _, test_loss = eval_test(rnn, target_category, input_data)\n",
    "    current_test_loss += test_loss\n",
    "    \n",
    "    guess_i = categoryFromOutput(output)\n",
    "    number_correct += (target_category.squeeze()==guess_i.squeeze()).long().sum()\n",
    "    \n",
    "    # Print iter number, loss, name and guess\n",
    "    if iter % print_every == 0:\n",
    "        sample_idx = 0\n",
    "        guess = all_categories[guess_i[sample_idx]]\n",
    "        \n",
    "        category = all_categories[int(target_category[sample_idx])]\n",
    "        \n",
    "        correct = '✓' if guess == category else '✗ (%s)' % category\n",
    "        print('%d %d%% (%s) %.4f %.4f %s / %s %s' % (iter, iter / n_iters * 100, time_since(start), loss, test_loss, text_data[sample_idx], guess, correct))\n",
    "        print('Train accuracy: {}'.format(float(number_correct)/float(print_every*BATCH_SIZE)))\n",
    "        number_correct = 0\n",
    "    \n",
    "    # Add current loss avg to list of losses\n",
    "    if iter % plot_every == 0:\n",
    "        all_losses.append(current_loss / plot_every)\n",
    "        current_loss = 0\n",
    "        all_test_losses.append(current_test_loss / plot_every)\n",
    "        current_test_loss = 0"
   ]
  },
  {
   "cell_type": "markdown",
   "metadata": {},
   "source": [
    "Plot loss functions\n",
    "--------------------\n",
    "\n"
   ]
  },
  {
   "cell_type": "code",
   "execution_count": 12,
   "metadata": {
    "scrolled": true
   },
   "outputs": [
    {
     "data": {
      "text/plain": [
       "[<matplotlib.lines.Line2D at 0x7f544839fa10>]"
      ]
     },
     "execution_count": 12,
     "metadata": {},
     "output_type": "execute_result"
    },
    {
     "data": {
      "image/png": "[encoded data removed]",
      "text/plain": [
       "<Figure size 432x288 with 1 Axes>"
      ]
     },
     "metadata": {
      "needs_background": "light"
     },
     "output_type": "display_data"
    }
   ],
   "source": [
    "import matplotlib.pyplot as plt\n",
    "import matplotlib.ticker as ticker\n",
    "\n",
    "plt.figure()\n",
    "plt.plot(all_losses, color='b')\n",
    "plt.plot(all_test_losses, color='r')"
   ]
  },
  {
   "cell_type": "markdown",
   "metadata": {},
   "source": [
    "Evaluate results\n",
    "-------------------\n",
    "\n",
    "We now vizualize the performance of our model by creating a confusion matrix. The ground truth languages of samples are represented by rows in the matrix while the predicted languages are represented by columns.\n",
    "\n",
    "In this evaluation we consider sequences of variable sizes rather than the fixed length sequences we used for training."
   ]
  },
  {
   "cell_type": "code",
   "execution_count": 13,
   "metadata": {},
   "outputs": [
    {
     "name": "stdout",
     "output_type": "stream",
     "text": [
      "Test accuracy:  0.934\n"
     ]
    },
    {
     "name": "stderr",
     "output_type": "stream",
     "text": [
      "/opt/conda/lib/python3.7/site-packages/ipykernel_launcher.py:35: UserWarning: FixedFormatter should only be used together with FixedLocator\n",
      "/opt/conda/lib/python3.7/site-packages/ipykernel_launcher.py:36: UserWarning: FixedFormatter should only be used together with FixedLocator\n"
     ]
    },
    {
     "data": {
      "image/png": "[encoded data removed]",
      "text/plain": [
       "<Figure size 432x288 with 2 Axes>"
      ]
     },
     "metadata": {
      "needs_background": "light"
     },
     "output_type": "display_data"
    }
   ],
   "source": [
    "eval_batch_size = 1  # needs to be set to 1 for evaluating different sequence lengths\n",
    "\n",
    "# Keep track of correct guesses in a confusion matrix\n",
    "confusion = torch.zeros(n_languages, n_languages)\n",
    "n_confusion = 1000\n",
    "num_correct = 0\n",
    "total = 0\n",
    "\n",
    "for i in range(n_confusion):\n",
    "    eval_chunk_len = random.randint(10, 50) # in evaluation we will look at sequences of variable sizes\n",
    "    input_data, target_category, text_data = load_random_batch(test_category_data, chunk_len=eval_chunk_len, batch_size=eval_batch_size)\n",
    "    output = evaluate(rnn, input_data, seq_len=eval_chunk_len, batch_size=eval_batch_size)\n",
    "    \n",
    "    guess_i = categoryFromOutput(output)\n",
    "    category_i = [int(target_category[idx]) for idx in range(len(target_category))]\n",
    "    for j in range(eval_batch_size):\n",
    "        category = all_categories[category_i[j]] \n",
    "        confusion[category_i[j]][guess_i[j]] += 1\n",
    "        num_correct += int(guess_i[j]==category_i[j])\n",
    "        total += 1\n",
    "\n",
    "print('Test accuracy: ', float(num_correct)/float(n_confusion*eval_batch_size))\n",
    "\n",
    "# Normalize by dividing every row by its sum\n",
    "for i in range(n_languages):\n",
    "    confusion[i] = confusion[i] / confusion[i].sum()\n",
    "\n",
    "# Set up plot\n",
    "fig = plt.figure()\n",
    "ax = fig.add_subplot(111)\n",
    "cax = ax.matshow(confusion.numpy())\n",
    "fig.colorbar(cax)\n",
    "\n",
    "# Set up axes\n",
    "ax.set_xticklabels([''] + all_categories, rotation=90)\n",
    "ax.set_yticklabels([''] + all_categories)\n",
    "\n",
    "# Force label at every tick\n",
    "ax.xaxis.set_major_locator(ticker.MultipleLocator(1))\n",
    "ax.yaxis.set_major_locator(ticker.MultipleLocator(1))\n",
    "\n",
    "plt.show()"
   ]
  },
  {
   "cell_type": "markdown",
   "metadata": {},
   "source": [
    "You can pick out bright spots off the main axis that show which\n",
    "languages it guesses incorrectly.\n",
    "\n",
    "\n"
   ]
  },
  {
   "cell_type": "markdown",
   "metadata": {},
   "source": [
    "Run on User Input\n",
    "---------------------\n",
    "\n",
    "Now you can test your model on your own input. \n"
   ]
  },
  {
   "cell_type": "code",
   "execution_count": 14,
   "metadata": {},
   "outputs": [
    {
     "name": "stdout",
     "output_type": "stream",
     "text": [
      "\n",
      "> This is a phrase to test the model on user input\n",
      "(12.10) english\n",
      "(4.18) albanian\n",
      "(3.16) italian\n",
      "(2.62) german\n",
      "(1.77) french\n"
     ]
    }
   ],
   "source": [
    "def predict(input_line, n_predictions=5):\n",
    "    print('\\n> %s' % input_line)\n",
    "    with torch.no_grad():\n",
    "        input_data = stringToTensor(input_line).long().unsqueeze(0).to(device)\n",
    "        output = evaluate(rnn, input_data, seq_len=len(input_line), batch_size=1)\n",
    "\n",
    "    # Get top N categories\n",
    "    topv, topi = output.topk(n_predictions, dim=1)\n",
    "    predictions = []\n",
    "\n",
    "    for i in range(n_predictions):\n",
    "        topv.shape\n",
    "        topi.shape\n",
    "        value = topv[0][i].item()\n",
    "        category_index = topi[0][i].item()\n",
    "        print('(%.2f) %s' % (value, all_categories[category_index]))\n",
    "        predictions.append([value, all_categories[category_index]])\n",
    "\n",
    "predict('This is a phrase to test the model on user input')\n"
   ]
  },
  {
   "cell_type": "markdown",
   "metadata": {},
   "source": [
    "# Output Kaggle submission file\n",
    "\n",
    "Once you have found a good set of hyperparameters submit the output of your model on the Kaggle test file."
   ]
  },
  {
   "cell_type": "code",
   "execution_count": 15,
   "metadata": {},
   "outputs": [],
   "source": [
    "### DO NOT CHANGE KAGGLE SUBMISSION CODE ####\n",
    "import csv\n",
    "\n",
    "kaggle_test_file_path = 'language_data/kaggle_rnn_language_classification_test.txt'\n",
    "with open(kaggle_test_file_path, 'r') as f:\n",
    "    lines = f.readlines()\n",
    "\n",
    "output_rows = []\n",
    "for i, line in enumerate(lines):\n",
    "    sample = line.rstrip()\n",
    "    sample_chunk_len = len(sample)\n",
    "    input_data = stringToTensor(sample).unsqueeze(0)\n",
    "    output = evaluate(rnn, input_data, seq_len=sample_chunk_len, batch_size=1)\n",
    "    guess_i = categoryFromOutput(output)\n",
    "    output_rows.append((str(i+1), all_categories[guess_i]))\n",
    "\n",
    "submission_file_path = 'kaggle_rnn_submission.txt'\n",
    "with open(submission_file_path, 'w') as f:\n",
    "    output_rows = [('id', 'category')] + output_rows\n",
    "    writer = csv.writer(f)\n",
    "    writer.writerows(output_rows)\n"
   ]
  },
  {
   "cell_type": "code",
   "execution_count": null,
   "metadata": {},
   "outputs": [],
   "source": []
  }
 ],
 "metadata": {
  "kernelspec": {
   "display_name": "Python 3",
   "language": "python",
   "name": "python3"
  },
  "language_info": {
   "codemirror_mode": {
    "name": "ipython",
    "version": 3
   },
   "file_extension": ".py",
   "mimetype": "text/x-python",
   "name": "python",
   "nbconvert_exporter": "python",
   "pygments_lexer": "ipython3",
   "version": "3.7.10"
  }
 },
 "nbformat": 4,
 "nbformat_minor": 2
}
