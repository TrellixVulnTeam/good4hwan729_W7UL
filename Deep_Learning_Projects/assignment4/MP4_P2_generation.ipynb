{
 "cells": [
  {
   "cell_type": "markdown",
   "metadata": {},
   "source": [
    "# Generating Text with an RNN"
   ]
  },
  {
   "cell_type": "code",
   "execution_count": 1,
   "metadata": {},
   "outputs": [],
   "source": [
    "import unidecode\n",
    "import string\n",
    "import random\n",
    "import re\n",
    "import time\n",
    "\n",
    "import torch\n",
    "import torch.nn as nn\n",
    "\n",
    "%matplotlib inline\n",
    "\n",
    "%load_ext autoreload\n",
    "%autoreload 2"
   ]
  },
  {
   "cell_type": "code",
   "execution_count": 2,
   "metadata": {},
   "outputs": [],
   "source": [
    "from rnn.model import RNN\n",
    "from rnn.helpers import time_since\n",
    "from rnn.generate import generate"
   ]
  },
  {
   "cell_type": "code",
   "execution_count": 3,
   "metadata": {
    "scrolled": true
   },
   "outputs": [],
   "source": [
    "device = torch.device(\"cuda:0\" if torch.cuda.is_available() else \"cpu\") "
   ]
  },
  {
   "cell_type": "markdown",
   "metadata": {},
   "source": [
    "## Data Processing\n",
    "\n",
    "The file we are using is a plain text file. We turn any potential unicode characters into plain ASCII by using the `unidecode` package (which you can install via `pip` or `conda`)."
   ]
  },
  {
   "cell_type": "code",
   "execution_count": 4,
   "metadata": {},
   "outputs": [
    {
     "name": "stdout",
     "output_type": "stream",
     "text": [
      "file_len = 1115394\n",
      "train len:  1003854\n",
      "test len:  111540\n"
     ]
    }
   ],
   "source": [
    "all_characters = string.printable\n",
    "n_characters = len(all_characters)\n",
    "\n",
    "file_path = 'language_data/shakespeare.txt'\n",
    "file = unidecode.unidecode(open(file_path).read())\n",
    "file_len = len(file)\n",
    "print('file_len =', file_len)\n",
    "\n",
    "# we will leave the last 1/10th of text as test\n",
    "split = int(0.9*file_len)\n",
    "train_text = file[:split]\n",
    "test_text = file[split:]\n",
    "\n",
    "print('train len: ', len(train_text))\n",
    "print('test len: ', len(test_text))"
   ]
  },
  {
   "cell_type": "code",
   "execution_count": 5,
   "metadata": {},
   "outputs": [
    {
     "name": "stdout",
     "output_type": "stream",
     "text": [
      "That for thy mother's fault art thus exposed\n",
      "To loss and what may follow! Weep I cannot,\n",
      "But my heart bleeds; and most accursed am I\n",
      "To be by oath enjoin'd to this. Farewell!\n",
      "The day frowns more and mo\n"
     ]
    }
   ],
   "source": [
    "chunk_len = 200\n",
    "\n",
    "def random_chunk(text):\n",
    "    start_index = random.randint(0, len(text) - chunk_len)\n",
    "    end_index = start_index + chunk_len + 1\n",
    "    return text[start_index:end_index]\n",
    "\n",
    "print(random_chunk(train_text))"
   ]
  },
  {
   "cell_type": "markdown",
   "metadata": {},
   "source": [
    "### Input and Target data"
   ]
  },
  {
   "cell_type": "markdown",
   "metadata": {},
   "source": [
    "To make training samples out of the large string of text data, we will be splitting the text into chunks.\n",
    "\n",
    "Each chunk will be turned into a tensor, specifically a `LongTensor` (used for integer values), by looping through the characters of the string and looking up the index of each character in `all_characters`."
   ]
  },
  {
   "cell_type": "code",
   "execution_count": 6,
   "metadata": {},
   "outputs": [],
   "source": [
    "# Turn string into list of longs\n",
    "def char_tensor(string):\n",
    "    tensor = torch.zeros(len(string), requires_grad=True).long()\n",
    "    for c in range(len(string)):\n",
    "        tensor[c] = all_characters.index(string[c])\n",
    "    return tensor"
   ]
  },
  {
   "cell_type": "markdown",
   "metadata": {},
   "source": [
    "The following function loads a batch of input and target tensors for training. Each sample comes from a random chunk of text. A sample input will consist of all characters *except the last*, while the target wil contain all characters *following the first*. For example: if random_chunk='abc', then input='ab' and target='bc'"
   ]
  },
  {
   "cell_type": "code",
   "execution_count": 7,
   "metadata": {},
   "outputs": [],
   "source": [
    "def load_random_batch(text, chunk_len, batch_size):\n",
    "    input_data = torch.zeros(batch_size, chunk_len).long().to(device)\n",
    "    target = torch.zeros(batch_size, chunk_len).long().to(device)\n",
    "    for i in range(batch_size):\n",
    "        start_index = random.randint(0, len(text) - chunk_len - 1)\n",
    "        end_index = start_index + chunk_len + 1\n",
    "        chunk = text[start_index:end_index]\n",
    "        input_data[i] = char_tensor(chunk[:-1])\n",
    "        target[i] = char_tensor(chunk[1:])\n",
    "    return input_data, target"
   ]
  },
  {
   "cell_type": "markdown",
   "metadata": {},
   "source": [
    "# Implement model\n",
    "\n",
    "Your RNN model will take as input the character for step $t_{-1}$ and output a prediction for the next character $t$. The model should consiste of three layers - a linear layer that encodes the input character into an embedded state, an RNN layer (which may itself have multiple layers) that operates on that embedded state and a hidden state, and a decoder layer that outputs the predicted character scores distribution.\n",
    "\n",
    "\n",
    "You must implement your model in the `rnn/model.py` file. You should use a `nn.Embedding` object for the encoding layer, a RNN model like `nn.RNN` or `nn.LSTM`, and a `nn.Linear` layer for the final a predicted character score decoding layer.\n",
    "\n",
    "\n",
    "**TODO:** Implement the model in RNN `rnn/model.py`"
   ]
  },
  {
   "cell_type": "markdown",
   "metadata": {},
   "source": [
    "# Evaluating\n",
    "\n",
    "To evaluate the network we will feed one character at a time, use the outputs of the network as a probability distribution for the next character, and repeat. To start generation we pass a priming string to start building up the hidden state, from which we then generate one character at a time.\n",
    "\n",
    "\n",
    "Note that in the `evaluate` function, every time a prediction is made the outputs are divided by the \"temperature\" argument. Higher temperature values make actions more equally likely giving more \"random\" outputs. Lower temperature values (less than 1) high likelihood options contribute more. A temperature near 0 outputs only the most likely outputs.\n",
    "\n",
    "You may check different temperature values yourself, but we have provided a default which should work well."
   ]
  },
  {
   "cell_type": "code",
   "execution_count": 8,
   "metadata": {},
   "outputs": [],
   "source": [
    "def evaluate(rnn, prime_str='A', predict_len=100, temperature=0.8):\n",
    "    hidden = rnn.init_hidden(1, device=device)\n",
    "    prime_input = char_tensor(prime_str)\n",
    "    predicted = prime_str\n",
    "\n",
    "    # Use priming string to \"build up\" hidden state\n",
    "    for p in range(len(prime_str) - 1):\n",
    "        _, hidden = rnn(prime_input[p].unsqueeze(0).to(device), hidden)\n",
    "    inp = prime_input[-1]\n",
    "    \n",
    "    for p in range(predict_len):\n",
    "        output, hidden = rnn(inp.unsqueeze(0).to(device), hidden)\n",
    "        \n",
    "        # Sample from the network as a multinomial distribution\n",
    "        output_dist = output.data.view(-1).div(temperature).exp()\n",
    "        top_i = torch.multinomial(output_dist, 1)[0]\n",
    "        \n",
    "        # Add predicted character to string and use as next input\n",
    "        predicted_char = all_characters[top_i]\n",
    "        predicted += predicted_char\n",
    "        inp = char_tensor(predicted_char)\n",
    "\n",
    "    return predicted"
   ]
  },
  {
   "cell_type": "markdown",
   "metadata": {},
   "source": [
    "# Train RNN"
   ]
  },
  {
   "cell_type": "code",
   "execution_count": 9,
   "metadata": {},
   "outputs": [],
   "source": [
    "batch_size = 100\n",
    "n_epochs = 2500\n",
    "hidden_size = 150\n",
    "n_layers = 3\n",
    "learning_rate = 0.01\n",
    "model_type = 'lstm'\n",
    "print_every = 50\n",
    "plot_every = 50\n"
   ]
  },
  {
   "cell_type": "code",
   "execution_count": 10,
   "metadata": {},
   "outputs": [],
   "source": [
    "def eval_test(rnn, inp, target):\n",
    "    with torch.no_grad():\n",
    "        hidden = rnn.init_hidden(batch_size, device=device)\n",
    "        loss = 0\n",
    "        for c in range(chunk_len):\n",
    "            output, hidden = rnn(inp[:,c], hidden)\n",
    "            loss += criterion(output.view(batch_size, -1), target[:,c])\n",
    "    \n",
    "    return loss.data.item() / chunk_len"
   ]
  },
  {
   "cell_type": "markdown",
   "metadata": {},
   "source": [
    "### Train function\n",
    "\n",
    "**TODO**: Fill in the train function. You should initialize a hidden layer representation using your RNN's `init_hidden` function, set the model gradients to zero, and loop over each time step (character) in the input tensor. For each time step compute the output of the of the RNN and compute the loss over the output and the corresponding ground truth time step in `target`. The loss should be averaged over all time steps. Lastly, call backward on the averaged loss and take an optimizer step.\n"
   ]
  },
  {
   "cell_type": "code",
   "execution_count": 11,
   "metadata": {},
   "outputs": [],
   "source": [
    "def train(rnn, input, target, optimizer, criterion):\n",
    "    \"\"\"\n",
    "    Inputs:\n",
    "    - rnn: model\n",
    "    - input: input character data tensor of shape (batch_size, chunk_len)\n",
    "    - target: target character data tensor of shape (batch_size, chunk_len)\n",
    "    - optimizer: rnn model optimizer\n",
    "    - criterion: loss function\n",
    "    \n",
    "    Returns:\n",
    "    - loss: computed loss value as python float\n",
    "    \"\"\"\n",
    "    loss = 0.0\n",
    "    \n",
    "    ####################################\n",
    "    #          YOUR CODE HERE          #\n",
    "    ####################################\n",
    "    hidden = rnn.init_hidden(batch_size, device = device)\n",
    "    rnn.train()\n",
    "    optimizer.zero_grad()\n",
    "    \n",
    "    for i in range(chunk_len):\n",
    "        pred, hidden = rnn(input[:, i], hidden)\n",
    "        loss += criterion(pred.view(batch_size, -1), target[:, i])\n",
    "        \n",
    "    loss /= chunk_len\n",
    "    loss.backward()\n",
    "    optimizer.step()\n",
    "    \n",
    "    ##########       END      ##########\n",
    "\n",
    "    return loss\n"
   ]
  },
  {
   "cell_type": "code",
   "execution_count": 12,
   "metadata": {
    "scrolled": false
   },
   "outputs": [
    {
     "name": "stdout",
     "output_type": "stream",
     "text": [
      "Training for 2500 epochs...\n",
      "[3m 37s (50 2%) train loss: 3.2936, test_loss: 3.3917]\n",
      "WhLtdhe\n",
      "inaln,rPate etwndeadt  asrthee  rdn:dsOe.p\n",
      "fh\n",
      ",  weiisy \n",
      "\n",
      "e h kk tesroah,,eay\n",
      " s  rrTok \n",
      "\n",
      " i.\n",
      " \n",
      "\n",
      "[7m 16s (100 4%) train loss: 2.7673, test_loss: 2.7493]\n",
      "Whn eent oce ae miiet wiad uicw ihe md nf yol mseek popd, oao aae ghae pboaoie co ost-h her ihu tb erf \n",
      "\n",
      "[10m 56s (150 6%) train loss: 2.3043, test_loss: 2.3946]\n",
      "Whhan ady?\n",
      "\n",
      "DUKE RENLAS:\n",
      "Thit , ne elar houtles: he hon, uf batis heasos eath I am len oe thre, sit to \n",
      "\n",
      "[14m 35s (200 8%) train loss: 2.0715, test_loss: 2.1252]\n",
      "Whinss,\n",
      "Jeridt wang fusor o, litane to in, thaves\n",
      "with thave moude slape, bust let witon.\n",
      "\n",
      "VEORK:\n",
      "A! t \n",
      "\n",
      "[18m 15s (250 10%) train loss: 1.8892, test_loss: 1.9945]\n",
      "Who and torand; sharps thlolge.\n",
      "\n",
      "QUEEN LARGARET:\n",
      "Ay, 'Nheil in fake are be.\n",
      "\n",
      "First you, the shath.\n",
      "\n",
      "HI \n",
      "\n",
      "[21m 53s (300 12%) train loss: 1.7806, test_loss: 1.9284]\n",
      "Whan his debpon in we feans we in the ontes king\n",
      "That the om undip him he!\n",
      "On 'the she breat so store  \n",
      "\n",
      "[25m 34s (350 14%) train loss: 1.7161, test_loss: 1.8467]\n",
      "Whis wames the prain, am late take a kinters,\n",
      "Where tall than my can the brother oung come most it mon \n",
      "\n",
      "[29m 14s (400 16%) train loss: 1.6394, test_loss: 1.7490]\n",
      "Which yet to Charthy deajest the san\n",
      "That the prace show the tonger thy deap opt his it;\n",
      "Thou some the \n",
      "\n",
      "[32m 53s (450 18%) train loss: 1.5743, test_loss: 1.7352]\n",
      "Whis no disk to dole.\n",
      "\n",
      "MARIANA:\n",
      "Perain, it me in the from the stain\n",
      "And wrebellest youst ear of unfect \n",
      "\n",
      "[36m 33s (500 20%) train loss: 1.5346, test_loss: 1.7719]\n",
      "Whas remand, I will the hath stay let if\n",
      "The than be best you have that padpose.\n",
      "\n",
      "KING RICHARD III:\n",
      "Th \n",
      "\n",
      "[40m 13s (550 22%) train loss: 1.5183, test_loss: 1.7003]\n",
      "What say to a offer, so and epitors\n",
      "To breathe to thouse your dissing are your brother.\n",
      "\n",
      "BRUTUS:\n",
      "What  \n",
      "\n",
      "[43m 53s (600 24%) train loss: 1.5065, test_loss: 1.7012]\n",
      "What doth be sigal may with remain.\n",
      "\n",
      "LORD BERKELEY:\n",
      "I will we prince with good not\n",
      "Give to steathe him \n",
      "\n",
      "[47m 32s (650 26%) train loss: 1.4737, test_loss: 1.6783]\n",
      "Why lord?\n",
      "\n",
      "CAMILLO:\n",
      "If o'clack;\n",
      "When all not I shill all teard! The strength, and \n",
      "Tell ever coubles n \n",
      "\n",
      "[51m 11s (700 28%) train loss: 1.4634, test_loss: 1.6524]\n",
      "What well, whom are the part with never gona, \n",
      "Which therefore thou brearn to we'll place:\n",
      "But fearlit \n",
      "\n",
      "[54m 51s (750 30%) train loss: 1.4350, test_loss: 1.6707]\n",
      "Whist this no to his ends? he is the crown?\n",
      "\n",
      "First Murderer:\n",
      "And wremest force God is the power'd of t \n",
      "\n",
      "[58m 30s (800 32%) train loss: 1.4465, test_loss: 1.6552]\n",
      "When I bear this both and my danger him that\n",
      "Do dispain and had stands not them thee true:\n",
      "Sinhor that \n",
      "\n",
      "[62m 11s (850 34%) train loss: 1.4192, test_loss: 1.6463]\n",
      "Whisband, if I am be to this as,\n",
      "As in those two, and weary is--\n",
      "I'll being than with wast of and hear \n",
      "\n",
      "[65m 49s (900 36%) train loss: 1.3945, test_loss: 1.6498]\n",
      "Which away's entrainess be the saw their grief;\n",
      "But thank are someting of your friends.\n",
      "\n",
      "RICHARD:\n",
      "Here \n",
      "\n",
      "[69m 28s (950 38%) train loss: 1.3934, test_loss: 1.6396]\n",
      "Where no majesty may seegin my genelites,\n",
      "Which contended the look; which is a grace\n",
      "For heart's dear  \n",
      "\n",
      "[73m 8s (1000 40%) train loss: 1.3930, test_loss: 1.5760]\n",
      "Whe may both as a worthen, and in surmonous do have this thee them not\n",
      "A pride up win the pleasure the \n",
      "\n",
      "[76m 47s (1050 42%) train loss: 1.3562, test_loss: 1.6378]\n",
      "Which double from his thanks: and, their dreases,\n",
      "By my house, thou shalt be your fitle in the foul li \n",
      "\n",
      "[80m 27s (1100 44%) train loss: 1.3668, test_loss: 1.6160]\n",
      "What you come where ever this heaven way;\n",
      "Can mark thee in thou very settled the hand to have\n",
      "person a \n",
      "\n",
      "[84m 6s (1150 46%) train loss: 1.3434, test_loss: 1.6124]\n",
      "Why be changed her secquences and the majesty:\n",
      "A good good the conveyance jested nor more!\n",
      "Shall not t \n",
      "\n",
      "[87m 47s (1200 48%) train loss: 1.3451, test_loss: 1.6442]\n",
      "When all her! Let her business spices friends,\n",
      "That deeds thing dew\n",
      "Where a bunts of England, that all \n",
      "\n",
      "[91m 26s (1250 50%) train loss: 1.3671, test_loss: 1.5937]\n",
      "What, having I am worships of the semble,\n",
      "I did me, out of our father.\n",
      "\n",
      "DORCAS:\n",
      "I slain hands, she is  \n",
      "\n",
      "[95m 6s (1300 52%) train loss: 1.3226, test_loss: 1.5839]\n",
      "Whether you see, and she in the fuuntating our sons,\n",
      "And did for it had not but the brother,\n",
      "That we s \n",
      "\n",
      "[98m 47s (1350 54%) train loss: 1.3264, test_loss: 1.5808]\n",
      "Whre more speak the common father's gentle doth den's own\n",
      "pernal, not the birth and been speak?\n",
      "\n",
      "Nurse \n",
      "\n",
      "[102m 27s (1400 56%) train loss: 1.3270, test_loss: 1.5475]\n",
      "Who slain from the ancient of her well other aged\n",
      "In those is come crean'd the brace:\n",
      "And I have a bou \n",
      "\n",
      "[106m 8s (1450 57%) train loss: 1.3383, test_loss: 1.6231]\n",
      "What it may I will be gone my lips.\n",
      "\n",
      "Lord:\n",
      "'Ya, fellow, as I cannot want-timbs\n",
      "The steal to her and ho \n",
      "\n",
      "[109m 49s (1500 60%) train loss: 1.3116, test_loss: 1.6004]\n",
      "What we do not in any determines beats,\n",
      "Then your thing of man lives\n",
      "Of our breast anjoys and comfort: \n",
      "\n",
      "[113m 30s (1550 62%) train loss: 1.3080, test_loss: 1.5801]\n",
      "What's thy hands and then their waste is not your majesty.\n",
      "\n",
      "First Sonspire:\n",
      "It is me to the folly lady \n",
      "\n",
      "[117m 12s (1600 64%) train loss: 1.2976, test_loss: 1.6054]\n",
      "Which comth, and love yours; how banish'd glorse,\n",
      "And not in service of good holy words\n",
      "I prince back  \n",
      "\n",
      "[120m 52s (1650 66%) train loss: 1.3150, test_loss: 1.6332]\n",
      "What heavy houses to be down like\n",
      "be means to thing, to your tafession!\n",
      "\n",
      "GLOUCESTER:\n",
      "Nay, let them dot \n",
      "\n",
      "[124m 34s (1700 68%) train loss: 1.3205, test_loss: 1.6151]\n",
      "Which will I did banished with the straiger court.\n",
      "\n",
      "Third Consprised:\n",
      "What, some he that say your eyes \n",
      "\n",
      "[128m 14s (1750 70%) train loss: 1.2954, test_loss: 1.6395]\n",
      "What by brother's proclaim but thee some both,\n",
      "Becauses a speak and be attend the house of heaven:\n",
      "And \n",
      "\n",
      "[131m 56s (1800 72%) train loss: 1.2948, test_loss: 1.5455]\n",
      "Where by words than thou lies so thou hast not sleam'd\n",
      "Shall prosperate stand so beggarons\n",
      "And sevence \n",
      "\n",
      "[135m 36s (1850 74%) train loss: 1.3038, test_loss: 1.6364]\n",
      "Whe more become of her field he and report\n",
      "That have no more sense, sir, and he not stand been,\n",
      "Was th \n",
      "\n",
      "[139m 16s (1900 76%) train loss: 1.2648, test_loss: 1.5171]\n",
      "What you be dare to see the daughter there?\n",
      "\n",
      "Gardener:\n",
      "It home contempen to the justice.\n",
      "\n",
      "First Murder \n",
      "\n",
      "[142m 58s (1950 78%) train loss: 1.2706, test_loss: 1.5754]\n",
      "Why state you come himself too means,\n",
      "Maintaccupails, will never prayed in revenge\n",
      "Into me gone the be \n",
      "\n",
      "[146m 39s (2000 80%) train loss: 1.2789, test_loss: 1.6089]\n",
      "Whresh I live heard down hither king, as I tell written\n",
      "And save and lows not now he the how of the po \n",
      "\n",
      "[150m 21s (2050 82%) train loss: 1.2731, test_loss: 1.6594]\n",
      "Whild it be lawmongs to warm hearts;\n",
      "And follow for unappeal of men!\n",
      "Why have late his part the bajest \n",
      "\n",
      "[154m 0s (2100 84%) train loss: 1.2573, test_loss: 1.5629]\n",
      "What is nothing in Baster hour enemy.\n",
      "\n",
      "KING EDWARD IV:\n",
      "My Lord of York to my mortal two shoil avoided\n",
      " \n",
      "\n",
      "[157m 40s (2150 86%) train loss: 1.2948, test_loss: 1.5573]\n",
      "Where I have not had man to be done and nid not to-news,\n",
      "And I am honour? Did not lives might so well\n",
      " \n",
      "\n",
      "[161m 21s (2200 88%) train loss: 1.2841, test_loss: 1.5435]\n",
      "What, do then you all flattering there\n",
      "In thrives unto the very blows,\n",
      "Or stand the life.\n",
      "\n",
      "VOLUMNIA:\n",
      "W \n",
      "\n",
      "[165m 2s (2250 90%) train loss: 1.2831, test_loss: 1.6619]\n",
      "What in the new was say, if the endure have procetment\n",
      "Who will make high hath wounds restivant:\n",
      "By ma \n",
      "\n",
      "[168m 43s (2300 92%) train loss: 1.2743, test_loss: 1.6664]\n",
      "What, much it well that you shall not;\n",
      "The strokes their firm more that kind shepherd of it,\n",
      "The one c \n",
      "\n",
      "[172m 23s (2350 94%) train loss: 1.2671, test_loss: 1.5620]\n",
      "Which persuades and bloods, and this office.\n",
      "Wherefore, my father with me.\n",
      "\n",
      "LEONTES:\n",
      "I hear me to me i \n",
      "\n",
      "[176m 3s (2400 96%) train loss: 1.2493, test_loss: 1.6064]\n",
      "Wherefore us thou art thou then borrow so;\n",
      "And my lords, that thou art not that one\n",
      "Than she are most  \n",
      "\n",
      "[179m 45s (2450 98%) train loss: 1.2899, test_loss: 1.5931]\n",
      "What my news\n",
      "Would not but insultise your child, may\n",
      "treat a night to be rest, whence a wise that mean \n",
      "\n",
      "[183m 25s (2500 100%) train loss: 1.2451, test_loss: 1.5818]\n",
      "Wherein they so mouds valiant the former\n",
      "your fear,--which is already thus\n",
      "He was a flattering graves  \n",
      "\n"
     ]
    }
   ],
   "source": [
    "rnn = RNN(n_characters, hidden_size, n_characters, model_type=model_type, n_layers=n_layers).to(device)\n",
    "rnn_optimizer = torch.optim.Adam(rnn.parameters(), lr=learning_rate)\n",
    "criterion = nn.CrossEntropyLoss()\n",
    "\n",
    "start = time.time()\n",
    "all_losses = []\n",
    "test_losses = []\n",
    "loss_avg = 0\n",
    "test_loss_avg = 0\n",
    "\n",
    "\n",
    "print(\"Training for %d epochs...\" % n_epochs)\n",
    "for epoch in range(1, n_epochs + 1):\n",
    "    loss = train(rnn, *load_random_batch(train_text, chunk_len, batch_size), rnn_optimizer, criterion)\n",
    "    loss_avg += loss\n",
    "    \n",
    "    test_loss = eval_test(rnn, *load_random_batch(test_text, chunk_len, batch_size))\n",
    "    test_loss_avg += test_loss\n",
    "\n",
    "    if epoch % print_every == 0:\n",
    "        print('[%s (%d %d%%) train loss: %.4f, test_loss: %.4f]' % (time_since(start), epoch, epoch / n_epochs * 100, loss, test_loss))\n",
    "        print(generate(rnn, 'Wh', 100, device=device), '\\n')\n",
    "\n",
    "    if epoch % plot_every == 0:\n",
    "        all_losses.append(loss_avg / plot_every)\n",
    "        test_losses.append(test_loss_avg / plot_every)\n",
    "        loss_avg = 0\n",
    "        test_loss_avg = 0"
   ]
  },
  {
   "cell_type": "code",
   "execution_count": 13,
   "metadata": {},
   "outputs": [],
   "source": [
    "# save network\n",
    "# torch.save(classifier.state_dict(), './rnn_generator.pth')"
   ]
  },
  {
   "cell_type": "markdown",
   "metadata": {},
   "source": [
    "# Plot the Training and Test Losses"
   ]
  },
  {
   "cell_type": "code",
   "execution_count": 14,
   "metadata": {},
   "outputs": [
    {
     "data": {
      "text/plain": [
       "[<matplotlib.lines.Line2D at 0x7f1250ebef10>]"
      ]
     },
     "execution_count": 14,
     "metadata": {},
     "output_type": "execute_result"
    },
    {
     "data": {
      "image/png": "[encoded data removed]",
      "text/plain": [
       "<Figure size 432x288 with 1 Axes>"
      ]
     },
     "metadata": {
      "needs_background": "light"
     },
     "output_type": "display_data"
    }
   ],
   "source": [
    "import matplotlib.pyplot as plt\n",
    "import matplotlib.ticker as ticker\n",
    "\n",
    "plt.figure()\n",
    "plt.plot(all_losses)\n",
    "plt.plot(test_losses, color='r')"
   ]
  },
  {
   "cell_type": "markdown",
   "metadata": {},
   "source": [
    "# Evaluate text generation\n",
    "\n",
    "Check what the outputted text looks like"
   ]
  },
  {
   "cell_type": "code",
   "execution_count": 15,
   "metadata": {},
   "outputs": [
    {
     "name": "stdout",
     "output_type": "stream",
     "text": [
      "Thou hadst sleep out thee, and sixteen many and me\n",
      "To slain to make him with thee so long;\n",
      "And yet I before your most nature; which will poor hour?\n",
      "I will this Romeo earth and here he eyes!\n",
      "When rest we low the children, I'll have a turn\n",
      "With this lady's house of you and a grown.\n",
      "\n",
      "Nurse:\n",
      "O thou know and purchance promotion:\n",
      "Withal doar'd her!\n",
      "I know it before affection:\n",
      "Shall then your noble father could have to keeps\n",
      "A warrant me to bring him speak to thy slain.\n",
      "\n",
      "GLOUCESTER:\n",
      "Where's the greeting that blood before me,\n",
      "Become him with to use the party of the duke;\n",
      "Nor every reasons and graces: one talk?\n",
      "\n",
      "GREMIO:\n",
      "Which very thing a country is duty.\n",
      "\n",
      "JULIET:\n",
      "The willo colours nor the kings; we'll not most a-graod;\n",
      "And so, by your sinelling with enjoying,\n",
      "Call the king? Romeo father, that makes me come\n",
      "Shall be so offended bolts here our country,\n",
      "That I remember thy souls for it of court.\n",
      "\n",
      "KING RICHARD II:\n",
      "Swaul call the people, what, there is bones reconcile?\n",
      "Therefore now thou diest to dea\n"
     ]
    }
   ],
   "source": [
    "print(evaluate(rnn, prime_str='Th', predict_len=1000))"
   ]
  },
  {
   "cell_type": "markdown",
   "metadata": {},
   "source": [
    "# Hyperparameter Tuning\n",
    "\n",
    "Some things you should try to improve your network performance are:\n",
    "- Different RNN types. Switch the basic RNN network in your model to a GRU and LSTM to compare all three.\n",
    "- Try adding 1 or two more layers\n",
    "- Increase the hidden layer size\n",
    "- Changing the learning rate\n",
    "\n",
    "**TODO:** Try changing the RNN type and hyperparameters. Record your results."
   ]
  },
  {
   "cell_type": "code",
   "execution_count": null,
   "metadata": {},
   "outputs": [],
   "source": []
  }
 ],
 "metadata": {
  "anaconda-cloud": {},
  "kernelspec": {
   "display_name": "Python 3",
   "language": "python",
   "name": "python3"
  },
  "language_info": {
   "codemirror_mode": {
    "name": "ipython",
    "version": 3
   },
   "file_extension": ".py",
   "mimetype": "text/x-python",
   "name": "python",
   "nbconvert_exporter": "python",
   "pygments_lexer": "ipython3",
   "version": "3.7.10"
  }
 },
 "nbformat": 4,
 "nbformat_minor": 1
}
